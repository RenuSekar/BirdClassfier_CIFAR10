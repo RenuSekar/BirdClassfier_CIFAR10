{
 "cells": [
  {
   "cell_type": "code",
   "execution_count": 4,
   "id": "1fff1698-60ca-47d8-95bc-ee19251fbab8",
   "metadata": {},
   "outputs": [],
   "source": [
    "from sklearn.metrics import confusion_matrix,classification_report\n",
    "from tensorflow.keras.datasets import cifar10\n",
    "from tensorflow.keras.models import load_model"
   ]
  },
  {
   "cell_type": "code",
   "execution_count": 6,
   "id": "d24101df-082d-4cad-a3d7-5a98ac34f617",
   "metadata": {},
   "outputs": [],
   "source": [
    "(x_train,y_train),(x_test,y_test) = cifar10.load_data()\n",
    "y_test = y_test == 2\n",
    "\n",
    "x_test = x_test.astype('float32')\n",
    "x_test /= 255"
   ]
  },
  {
   "cell_type": "code",
   "execution_count": 10,
   "id": "cd13c940-7d06-4e33-b937-3f75240d2d64",
   "metadata": {},
   "outputs": [
    {
     "name": "stderr",
     "output_type": "stream",
     "text": [
      "WARNING:absl:Compiled the loaded model, but the compiled metrics have yet to be built. `model.compile_metrics` will be empty until you train or evaluate the model.\n"
     ]
    },
    {
     "name": "stdout",
     "output_type": "stream",
     "text": [
      "\u001b[1m313/313\u001b[0m \u001b[32m━━━━━━━━━━━━━━━━━━━━\u001b[0m\u001b[37m\u001b[0m \u001b[1m5s\u001b[0m 14ms/step\n"
     ]
    }
   ],
   "source": [
    "model = load_model('bird_model.h5')\n",
    "predictions = model.predict(\n",
    "    x_test,\n",
    "    batch_size = 32,\n",
    "    verbose = 1\n",
    ")\n",
    "\n",
    "predictions = predictions > 0.5"
   ]
  },
  {
   "cell_type": "code",
   "execution_count": 14,
   "id": "842cb47f-3a0d-49d1-8e77-89c2dc84c836",
   "metadata": {},
   "outputs": [
    {
     "name": "stdout",
     "output_type": "stream",
     "text": [
      "True Positives: 8858\n",
      "True Negatives: 598\n",
      "False Positives: 142\n",
      "False Negatives: 402\n"
     ]
    }
   ],
   "source": [
    "tp,fp,fn,tn = confusion_matrix(y_test,predictions).ravel()\n",
    "print(f\"True Positives: {tp}\")\n",
    "print(f\"True Negatives: {tn}\")\n",
    "print(f\"False Positives: {fp}\")\n",
    "print(f\"False Negatives: {fn}\")\n"
   ]
  },
  {
   "cell_type": "code",
   "execution_count": 18,
   "id": "abeb6518-360c-4f5f-8113-194a95f521ae",
   "metadata": {},
   "outputs": [
    {
     "name": "stdout",
     "output_type": "stream",
     "text": [
      "              precision    recall  f1-score   support\n",
      "\n",
      "       False       0.96      0.98      0.97      9000\n",
      "        True       0.81      0.60      0.69      1000\n",
      "\n",
      "    accuracy                           0.95     10000\n",
      "   macro avg       0.88      0.79      0.83     10000\n",
      "weighted avg       0.94      0.95      0.94     10000\n",
      "\n"
     ]
    }
   ],
   "source": [
    "report = classification_report(y_test,predictions)\n",
    "print(report)"
   ]
  },
  {
   "cell_type": "code",
   "execution_count": null,
   "id": "0e3b66e2-4675-4cf4-a617-ed1e245ce608",
   "metadata": {},
   "outputs": [],
   "source": []
  }
 ],
 "metadata": {
  "kernelspec": {
   "display_name": "Python 3 (ipykernel)",
   "language": "python",
   "name": "python3"
  },
  "language_info": {
   "codemirror_mode": {
    "name": "ipython",
    "version": 3
   },
   "file_extension": ".py",
   "mimetype": "text/x-python",
   "name": "python",
   "nbconvert_exporter": "python",
   "pygments_lexer": "ipython3",
   "version": "3.12.4"
  }
 },
 "nbformat": 4,
 "nbformat_minor": 5
}
